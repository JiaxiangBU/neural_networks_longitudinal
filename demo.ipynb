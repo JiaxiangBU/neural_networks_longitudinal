{
 "cells": [
  {
   "cell_type": "markdown",
   "metadata": {
    "colab_type": "text",
    "id": "R5m_qK9_8hqN"
   },
   "source": [
    "## Neural Networks for Longitudinal Data Analysis"
   ]
  },
  {
   "cell_type": "markdown",
   "metadata": {
    "colab_type": "text",
    "id": "PdLYM7Y5iemY"
   },
   "source": [
    "# Setup"
   ]
  },
  {
   "cell_type": "markdown",
   "metadata": {
    "colab_type": "text",
    "id": "djW0ncP_6Eht"
   },
   "source": [
    "## Load/install packages"
   ]
  },
  {
   "cell_type": "code",
   "execution_count": null,
   "metadata": {
    "colab": {
     "base_uri": "https://localhost:8080/",
     "height": 70
    },
    "colab_type": "code",
    "id": "IhD2tBDU6ECo",
    "outputId": "572309eb-3fda-4dcc-f732-31537e5a1857"
   },
   "outputs": [],
   "source": [
    "# ## Install/load pacman for help with package loading\n",
    "# install.packages('pacman')\n",
    "# library(pacman)\n",
    "\n",
    "# ## Load/install packages\n",
    "# pacman::p_load(\n",
    "#     ## Needed for data pre-processing and modeling \n",
    "#     dplyr, tidyverse, readxl, padr, gridExtra, caret, tictoc, \n",
    "\n",
    "#     ## Data pre-processing only\n",
    "#     rsample, lubridate, fastDummies, Lahman , \n",
    "\n",
    "#     ## Modeling only\n",
    "#     keras, tensorflow  \n",
    "#     )"
   ]
  },
  {
   "cell_type": "code",
   "execution_count": null,
   "metadata": {},
   "outputs": [],
   "source": [
    "library(tidyverse)\n",
    "library(keras)\n",
    "library(tensorflow)\n",
    "library(Lahman)\n",
    "library(padr)\n",
    "library(lubridate)\n",
    "library(fastDummies)\n",
    "library(rsample)\n",
    "library(readxl)\n",
    "library(gridExtra)\n",
    "library(caret)\n",
    "library(tictoc)"
   ]
  },
  {
   "cell_type": "markdown",
   "metadata": {
    "colab_type": "text",
    "id": "hLslR98C6BZh"
   },
   "source": [
    "## Set parameters"
   ]
  },
  {
   "cell_type": "code",
   "execution_count": null,
   "metadata": {
    "colab": {},
    "colab_type": "code",
    "id": "-PIGiz7P6JMQ"
   },
   "outputs": [],
   "source": [
    "## Define random seed\n",
    "random_seed = 100\n",
    "\n",
    "## Filtering criteria for Baseball player example\n",
    "min_plate_appearances = 85 # suggestion from Jimmy E. to require PA > 100 to focus on hitters\n",
    "min_year = 1916 # earliest year to include so that stadium attendance is captured.\n",
    "\n",
    "## Percents of data to include in training, testing, and validation dataframes\n",
    "pct_train = .80\n",
    "pct_test = .50 * (1 - pct_train)\n",
    "pct_valid = pct_test\n",
    "\n",
    "## Number of periods to look back (for attributes) and forward (for prediction)\n",
    "look_back = 3\n",
    "look_forward = 1\n",
    "min_length = look_back + look_forward\n",
    "#max_length = 20\n",
    "#above_pct = 0.50\n",
    "\n",
    "\n",
    "## Slash line outcomes\n",
    "slash_line_outcomes = c('Batting_BattingAverage', 'Batting_OnBasePct', 'Batting_SlugPct') \n",
    "slash_line_outcomes_fmt = slash_line_outcomes %>% gsub('Batting_', '', .)"
   ]
  },
  {
   "cell_type": "markdown",
   "metadata": {
    "colab_type": "text",
    "id": "m0X1ylC7ih5a"
   },
   "source": [
    "## Download files from Github"
   ]
  },
  {
   "cell_type": "code",
   "execution_count": null,
   "metadata": {
    "colab": {
     "base_uri": "https://localhost:8080/",
     "height": 52
    },
    "colab_type": "code",
    "id": "THEn9vW0jZyZ",
    "outputId": "c0fb5e4b-d2bf-4ed0-d311-02733dd2a7e5"
   },
   "outputs": [],
   "source": [
    "## Create a subfolder called 'R' to hold R scripts downloaded from demo Github repo\n",
    "# dir.create('R')"
   ]
  },
  {
   "cell_type": "code",
   "execution_count": null,
   "metadata": {
    "colab": {},
    "colab_type": "code",
    "id": "SLBpjFGkilTd"
   },
   "outputs": [],
   "source": [
    "# ## repo_path: direct path to Github repository\n",
    "# ## filename: Name of file in the Github repo path\n",
    "# get_file_from_github = function(repo_path, filename) {\n",
    "#     url = paste0(repo_path, filename)\n",
    "#     destfile = paste0('R/', filename)\n",
    "#     download.file(url=url, destfile=destfile)\n",
    "#     message(paste('Successfully downloaded', filename))\n",
    "# }"
   ]
  },
  {
   "cell_type": "code",
   "execution_count": null,
   "metadata": {
    "colab": {
     "base_uri": "https://localhost:8080/",
     "height": 158
    },
    "colab_type": "code",
    "id": "Aj5hAi8SilYl",
    "outputId": "ea619d48-f784-4d6c-ff59-a58dc0f5c5c7"
   },
   "outputs": [],
   "source": [
    "# baseball_demo_repo_path = \"https://raw.githubusercontent.com/sydeaka/neural_networks_longitudinal/master/R/\"\n",
    "\n",
    "# #get_file_from_github(repo_path = baseball_demo_repo_path, '00-config.R')\n",
    "# get_file_from_github(repo_path = baseball_demo_repo_path, '01-data-processing_helper-functions.R')\n",
    "# get_file_from_github(repo_path = baseball_demo_repo_path, '02-create_modeling_dataset.R')\n",
    "# get_file_from_github(repo_path = baseball_demo_repo_path, '03-data-formatting.R')\n",
    "# get_file_from_github(repo_path = baseball_demo_repo_path, '04-modeling-helper-functions.R')"
   ]
  },
  {
   "cell_type": "markdown",
   "metadata": {
    "colab_type": "text",
    "id": "M9MNKZTy89DI"
   },
   "source": [
    "## Source R scripts from Github"
   ]
  },
  {
   "cell_type": "code",
   "execution_count": null,
   "metadata": {
    "colab": {
     "base_uri": "https://localhost:8080/",
     "height": 52
    },
    "colab_type": "code",
    "id": "_Kt0IYoKkPW6",
    "outputId": "139d335b-9ac4-4c01-84b9-40cfbc8d0e7f"
   },
   "outputs": [],
   "source": [
    "## Load helper functions used for data processing\n",
    "source('R/01-data-processing_helper-functions.R')"
   ]
  },
  {
   "cell_type": "code",
   "execution_count": null,
   "metadata": {
    "colab": {
     "base_uri": "https://localhost:8080/",
     "height": 283
    },
    "colab_type": "code",
    "id": "dzmeni1DkPwL",
    "outputId": "c2169c1c-4604-49b4-e9d1-209cfc7a66f7"
   },
   "outputs": [],
   "source": [
    "## Create baseball dataset used in demo\n",
    "source('R/02-create_modeling_dataset.R')"
   ]
  },
  {
   "cell_type": "code",
   "execution_count": null,
   "metadata": {
    "colab": {
     "base_uri": "https://localhost:8080/",
     "height": 407
    },
    "colab_type": "code",
    "id": "ywHjsNinkP11",
    "outputId": "d63007be-35bb-456c-9339-1ce2fcb25ac6"
   },
   "outputs": [],
   "source": [
    "## Put data in formats required for modeling\n",
    "source('R/03-data-formatting.R')"
   ]
  },
  {
   "cell_type": "code",
   "execution_count": null,
   "metadata": {
    "colab": {
     "base_uri": "https://localhost:8080/",
     "height": 196
    },
    "colab_type": "code",
    "id": "-wDpM-SnA9oz",
    "outputId": "a24a5b42-d1dc-43ff-8e3e-d3d4726bf971"
   },
   "outputs": [],
   "source": [
    "dat_train_scaled %>% head()"
   ]
  },
  {
   "cell_type": "code",
   "execution_count": null,
   "metadata": {
    "colab": {
     "base_uri": "https://localhost:8080/",
     "height": 52
    },
    "colab_type": "code",
    "id": "VKxCnIOLk3DK",
    "outputId": "f2fd0492-cdc3-4fdd-9707-7460845b9ec3"
   },
   "outputs": [],
   "source": [
    "## Load modeling functions\n",
    "## Example function assumes you would like to consider models that feature:\n",
    "##  (1) one or more Gated Recurrent Unit (GRU) layers\n",
    "##  (2) one or more fully connected dense layers\n",
    "##  (3) a final output layer with one node for each outcome you want to predict\n",
    "## Feel free to play around with other architectures, replace GRU with LSTM, etc.\n",
    "source('R/04-modeling-helper-functions.R')"
   ]
  },
  {
   "cell_type": "markdown",
   "metadata": {
    "colab_type": "text",
    "id": "U3uk2Bdxl0ll"
   },
   "source": [
    "## Set modeling parameters"
   ]
  },
  {
   "cell_type": "code",
   "execution_count": null,
   "metadata": {
    "colab": {},
    "colab_type": "code",
    "id": "EPidEDLgDO5y"
   },
   "outputs": [],
   "source": [
    "## Named list of optimizers to consider in the hyperparameter grid\n",
    "optimizers = list(adam = optimizer_adam, rmsprop = optimizer_rmsprop, sgd = optimizer_sgd)\n",
    "\n",
    "## If we loss function doesn't decrease by at least this amouunt, \n",
    "##  drop the learning rate and/or impose early stopping\n",
    "min_delta = length(target_col_names) * 0.001\n",
    "\n",
    "## Hyperparameter grid. Generally, we would include more than one value for each parameter\n",
    "## `random_fit` will randomly select values from this grid and use them to fit a model\n",
    "params = list(\n",
    "    num_dense_layers = c(1),      # Number of fully connected dense layers\n",
    "    num_recurrent_layers = c(1),  # Number of GRU layers\n",
    "    batch_size = c(85, 90, 100),    # Batch size\n",
    "    num_dense_units = c(900),  # Number of units to incldue in the dense layer\n",
    "    optimizer_name = names(optimizers),  # Name of the optimizers to consider\n",
    "    dense_activation = c('relu'),        # Activation to use in the dense layers\n",
    "    learning_rate = c(.000001),  # Learning rates\n",
    "    lstm_nodes = c(1500),                       # Number of nodes in the recurrent layes\n",
    "    lstm_dropout = c(0.10),                     # Dropout for recurrent layers\n",
    "    num_epochs = 10,                     # Number of epochs\n",
    "    alpha = c(0.5),                      # Alpha to use for leaky relu\n",
    "    patience_lr = 4,                     # Number of iterations in which loss is allowed to not decrease before automatically reducing learning rate\n",
    "    max_lr_reductions = 10,              # Maximum number of times to reduce the learning rate\n",
    "    lr_reduce_factor = 0.60,             # New learning rate is this fraction of the previous learning rate\n",
    "    min_delta_lr = min_delta,            # See note for min_delta above\n",
    "    min_delta_es = min_delta,            # See note for min_delta above\n",
    "    loss_weights = list(1.0, 1.0, 1.0),  # Weights for outcome-specific losses used to create overall loss \n",
    "    l1_term = c(0.0001),                 # Regularization term for L-1 regularization\n",
    "    l2_term = c(0.0)                     # Regularizationt erm for L-2 regularization\n",
    ")"
   ]
  },
  {
   "cell_type": "markdown",
   "metadata": {
    "colab_type": "text",
    "id": "Wbb_3LOOl-y5"
   },
   "source": [
    "## Set up the leaderboard and output file name"
   ]
  },
  {
   "cell_type": "code",
   "execution_count": null,
   "metadata": {
    "colab": {
     "base_uri": "https://localhost:8080/",
     "height": 34
    },
    "colab_type": "code",
    "id": "DRcUJp5mAzjj",
    "outputId": "e652e0a8-523a-48ea-d18d-8f04ed395987"
   },
   "outputs": [],
   "source": [
    "testing = F\n",
    "leader = NULL\n",
    "model_output = list()\n",
    "output_csv = ifelse(testing==T, 'output_test.csv', paste0('modeling_output_', Sys.time(), '.csv'))\n",
    "cat('Results saved to', output_csv, '\\n')\n",
    "set.seed(random_seed)"
   ]
  },
  {
   "cell_type": "markdown",
   "metadata": {
    "colab_type": "text",
    "id": "IA36D3SImDUb"
   },
   "source": [
    "## Fit the model(s)"
   ]
  },
  {
   "cell_type": "code",
   "execution_count": null,
   "metadata": {
    "colab": {
     "base_uri": "https://localhost:8080/",
     "height": 1000
    },
    "colab_type": "code",
    "id": "ydscj3cP_EL6",
    "outputId": "25c3aed7-4ef1-4c71-c131-22eeff91ad01"
   },
   "outputs": [],
   "source": [
    "# First run is testing to make sure it works\n",
    "random_fit(params=params, testing=T)"
   ]
  },
  {
   "cell_type": "code",
   "execution_count": null,
   "metadata": {
    "colab": {
     "base_uri": "https://localhost:8080/",
     "height": 1000
    },
    "colab_type": "code",
    "id": "8I9sedsLmLlR",
    "outputId": "af5c1df0-e5d4-4fba-a4fc-e545a586bfe8"
   },
   "outputs": [],
   "source": [
    "random_fit(params=params)"
   ]
  },
  {
   "cell_type": "code",
   "execution_count": null,
   "metadata": {
    "colab": {
     "base_uri": "https://localhost:8080/",
     "height": 125
    },
    "colab_type": "code",
    "id": "ildQPV8kDG-z",
    "outputId": "f40ca45a-6de6-41ad-a5df-ff43fed4c6f8"
   },
   "outputs": [],
   "source": [
    "leader"
   ]
  },
  {
   "cell_type": "code",
   "execution_count": null,
   "metadata": {
    "colab": {},
    "colab_type": "code",
    "id": "WbCRbG8SITJ1"
   },
   "outputs": [],
   "source": []
  }
 ],
 "metadata": {
  "accelerator": "GPU",
  "colab": {
   "collapsed_sections": [],
   "name": "NN_Longitudinal_Baseball_Demo.ipynb",
   "provenance": []
  },
  "kernelspec": {
   "display_name": "R",
   "language": "R",
   "name": "ir"
  },
  "language_info": {
   "codemirror_mode": "r",
   "file_extension": ".r",
   "mimetype": "text/x-r-source",
   "name": "R",
   "pygments_lexer": "r",
   "version": "3.6.0"
  }
 },
 "nbformat": 4,
 "nbformat_minor": 1
}
